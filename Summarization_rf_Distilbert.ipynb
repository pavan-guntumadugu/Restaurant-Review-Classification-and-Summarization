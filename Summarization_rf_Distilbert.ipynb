{
 "cells": [
  {
   "cell_type": "code",
   "execution_count": 42,
   "metadata": {
    "colab": {
     "base_uri": "https://localhost:8080/"
    },
    "id": "kwuBiDfSNGhN",
    "outputId": "2d149bea-b469-4e27-e3fa-f8cdbf7e3252"
   },
   "outputs": [
    {
     "name": "stderr",
     "output_type": "stream",
     "text": [
      "[nltk_data] Downloading package punkt to\n",
      "[nltk_data]     C:\\Users\\gpava\\AppData\\Roaming\\nltk_data...\n",
      "[nltk_data]   Package punkt is already up-to-date!\n",
      "[nltk_data] Downloading package stopwords to\n",
      "[nltk_data]     C:\\Users\\gpava\\AppData\\Roaming\\nltk_data...\n",
      "[nltk_data]   Package stopwords is already up-to-date!\n",
      "[nltk_data] Downloading package wordnet to\n",
      "[nltk_data]     C:\\Users\\gpava\\AppData\\Roaming\\nltk_data...\n",
      "[nltk_data]   Package wordnet is already up-to-date!\n"
     ]
    },
    {
     "data": {
      "text/plain": [
       "0     my kitties love these treats.  this flavor is ...\n",
       "1     our poodle gets one every evening as a special...\n",
       "2     we got a keurig system last year for christmas...\n",
       "3     perfect tea for right before bedtime relaxing....\n",
       "4     i would never retract that the product seems t...\n",
       "                            ...                        \n",
       "95    love these almonds!  great flavor  really hits...\n",
       "96    no detailed analysis here i like the overall t...\n",
       "97    i purchased these bread mixes intending to use...\n",
       "98    i love the product and will continue using it....\n",
       "99    love cytomax. when biking i follow the instruc...\n",
       "Name: Cleaned_Text, Length: 100, dtype: object"
      ]
     },
     "execution_count": 42,
     "metadata": {},
     "output_type": "execute_result"
    }
   ],
   "source": [
    "import pandas as pd\n",
    "import re\n",
    "from nltk.tokenize import sent_tokenize\n",
    "from nltk.corpus import stopwords\n",
    "from nltk.stem import WordNetLemmatizer\n",
    "import nltk\n",
    "\n",
    "# Make sure to download these once in your environment\n",
    "nltk.download('punkt')\n",
    "nltk.download('stopwords')\n",
    "nltk.download('wordnet')\n",
    "\n",
    "# Load the dataset\n",
    "df = pd.read_csv('positive_reviews.csv')  # Replace with your actual file path\n",
    "\n",
    "# Function to clean the text\n",
    "def clean_text(text):\n",
    "    # Remove HTML tags\n",
    "    text = re.sub(r'<.*?>', '', text)\n",
    "    # Keep essential punctuation that defines sentence boundaries\n",
    "    text = re.sub(r'[^\\w\\s.!?]', '', text)  # Remove all non-word characters except for sentence-ending punctuation\n",
    "    # Convert to lowercase\n",
    "    text = text.lower()\n",
    "    return text\n",
    "\n",
    "# Clean the 'Text' column\n",
    "df['Cleaned_Text'] = df['Text'].apply(clean_text)\n",
    "\n",
    "# Tokenize the cleaned text into sentences\n",
    "df['Sentences'] = df['Cleaned_Text'].apply(sent_tokenize)\n",
    "\n",
    "# Display the first few rows of the dataframe\n",
    "df.head()\n",
    "# Assuming `df` is your original dataframe with 500,000 rows\n",
    "subset_df = df.iloc[:100].copy()\n",
    "\n",
    "subset_df[\"Cleaned_Text\"]"
   ]
  },
  {
   "cell_type": "code",
   "execution_count": 43,
   "metadata": {},
   "outputs": [
    {
     "data": {
      "text/html": [
       "<div>\n",
       "<style scoped>\n",
       "    .dataframe tbody tr th:only-of-type {\n",
       "        vertical-align: middle;\n",
       "    }\n",
       "\n",
       "    .dataframe tbody tr th {\n",
       "        vertical-align: top;\n",
       "    }\n",
       "\n",
       "    .dataframe thead th {\n",
       "        text-align: right;\n",
       "    }\n",
       "</style>\n",
       "<table border=\"1\" class=\"dataframe\">\n",
       "  <thead>\n",
       "    <tr style=\"text-align: right;\">\n",
       "      <th></th>\n",
       "      <th>Score</th>\n",
       "      <th>Summary</th>\n",
       "      <th>Text</th>\n",
       "      <th>processed_text</th>\n",
       "      <th>Cleaned_Text</th>\n",
       "      <th>Sentences</th>\n",
       "    </tr>\n",
       "  </thead>\n",
       "  <tbody>\n",
       "    <tr>\n",
       "      <th>0</th>\n",
       "      <td>1</td>\n",
       "      <td>KITTIES LOVE EM</td>\n",
       "      <td>My kitties love these treats.  This flavor is ...</td>\n",
       "      <td>kitties love treats flavor favorite kitties re...</td>\n",
       "      <td>my kitties love these treats.  this flavor is ...</td>\n",
       "      <td>[my kitties love these treats., this flavor is...</td>\n",
       "    </tr>\n",
       "    <tr>\n",
       "      <th>1</th>\n",
       "      <td>1</td>\n",
       "      <td>Greenies</td>\n",
       "      <td>Our poodle gets one every evening as a special...</td>\n",
       "      <td>poodle gets one every evening special treat lo...</td>\n",
       "      <td>our poodle gets one every evening as a special...</td>\n",
       "      <td>[our poodle gets one every evening as a specia...</td>\n",
       "    </tr>\n",
       "    <tr>\n",
       "      <th>2</th>\n",
       "      <td>1</td>\n",
       "      <td>Finally!</td>\n",
       "      <td>We got a Keurig system last year for Christmas...</td>\n",
       "      <td>got keurig system last year christmas great ho...</td>\n",
       "      <td>we got a keurig system last year for christmas...</td>\n",
       "      <td>[we got a keurig system last year for christma...</td>\n",
       "    </tr>\n",
       "    <tr>\n",
       "      <th>3</th>\n",
       "      <td>1</td>\n",
       "      <td>My favorite peppermint tea</td>\n",
       "      <td>Perfect tea for right before bedtime relaxing....</td>\n",
       "      <td>perfect tea right bedtime relaxing enjoying st...</td>\n",
       "      <td>perfect tea for right before bedtime relaxing....</td>\n",
       "      <td>[perfect tea for right before bedtime relaxing...</td>\n",
       "    </tr>\n",
       "    <tr>\n",
       "      <th>4</th>\n",
       "      <td>1</td>\n",
       "      <td>CET pet Chewies... and the \"Company\"</td>\n",
       "      <td>I would never retract that the product seems t...</td>\n",
       "      <td>would never retract product seems excellent pe...</td>\n",
       "      <td>i would never retract that the product seems t...</td>\n",
       "      <td>[i would never retract that the product seems ...</td>\n",
       "    </tr>\n",
       "  </tbody>\n",
       "</table>\n",
       "</div>"
      ],
      "text/plain": [
       "   Score                               Summary  \\\n",
       "0      1                       KITTIES LOVE EM   \n",
       "1      1                              Greenies   \n",
       "2      1                              Finally!   \n",
       "3      1            My favorite peppermint tea   \n",
       "4      1  CET pet Chewies... and the \"Company\"   \n",
       "\n",
       "                                                Text  \\\n",
       "0  My kitties love these treats.  This flavor is ...   \n",
       "1  Our poodle gets one every evening as a special...   \n",
       "2  We got a Keurig system last year for Christmas...   \n",
       "3  Perfect tea for right before bedtime relaxing....   \n",
       "4  I would never retract that the product seems t...   \n",
       "\n",
       "                                      processed_text  \\\n",
       "0  kitties love treats flavor favorite kitties re...   \n",
       "1  poodle gets one every evening special treat lo...   \n",
       "2  got keurig system last year christmas great ho...   \n",
       "3  perfect tea right bedtime relaxing enjoying st...   \n",
       "4  would never retract product seems excellent pe...   \n",
       "\n",
       "                                        Cleaned_Text  \\\n",
       "0  my kitties love these treats.  this flavor is ...   \n",
       "1  our poodle gets one every evening as a special...   \n",
       "2  we got a keurig system last year for christmas...   \n",
       "3  perfect tea for right before bedtime relaxing....   \n",
       "4  i would never retract that the product seems t...   \n",
       "\n",
       "                                           Sentences  \n",
       "0  [my kitties love these treats., this flavor is...  \n",
       "1  [our poodle gets one every evening as a specia...  \n",
       "2  [we got a keurig system last year for christma...  \n",
       "3  [perfect tea for right before bedtime relaxing...  \n",
       "4  [i would never retract that the product seems ...  "
      ]
     },
     "execution_count": 43,
     "metadata": {},
     "output_type": "execute_result"
    }
   ],
   "source": [
    "df.head()"
   ]
  },
  {
   "cell_type": "code",
   "execution_count": 44,
   "metadata": {
    "colab": {
     "base_uri": "https://localhost:8080/",
     "height": 206
    },
    "id": "Vn9T78tWNLse",
    "outputId": "3eebb396-4960-49e0-bdcf-7f414b156374"
   },
   "outputs": [
    {
     "data": {
      "text/html": [
       "<div>\n",
       "<style scoped>\n",
       "    .dataframe tbody tr th:only-of-type {\n",
       "        vertical-align: middle;\n",
       "    }\n",
       "\n",
       "    .dataframe tbody tr th {\n",
       "        vertical-align: top;\n",
       "    }\n",
       "\n",
       "    .dataframe thead th {\n",
       "        text-align: right;\n",
       "    }\n",
       "</style>\n",
       "<table border=\"1\" class=\"dataframe\">\n",
       "  <thead>\n",
       "    <tr style=\"text-align: right;\">\n",
       "      <th></th>\n",
       "      <th>Text</th>\n",
       "      <th>Cleaned_Text</th>\n",
       "      <th>Sentences</th>\n",
       "    </tr>\n",
       "  </thead>\n",
       "  <tbody>\n",
       "    <tr>\n",
       "      <th>0</th>\n",
       "      <td>My kitties love these treats.  This flavor is ...</td>\n",
       "      <td>my kitties love these treats.  this flavor is ...</td>\n",
       "      <td>[my kitties love these treats., this flavor is...</td>\n",
       "    </tr>\n",
       "    <tr>\n",
       "      <th>1</th>\n",
       "      <td>Our poodle gets one every evening as a special...</td>\n",
       "      <td>our poodle gets one every evening as a special...</td>\n",
       "      <td>[our poodle gets one every evening as a specia...</td>\n",
       "    </tr>\n",
       "    <tr>\n",
       "      <th>2</th>\n",
       "      <td>We got a Keurig system last year for Christmas...</td>\n",
       "      <td>we got a keurig system last year for christmas...</td>\n",
       "      <td>[we got a keurig system last year for christma...</td>\n",
       "    </tr>\n",
       "    <tr>\n",
       "      <th>3</th>\n",
       "      <td>Perfect tea for right before bedtime relaxing....</td>\n",
       "      <td>perfect tea for right before bedtime relaxing....</td>\n",
       "      <td>[perfect tea for right before bedtime relaxing...</td>\n",
       "    </tr>\n",
       "    <tr>\n",
       "      <th>4</th>\n",
       "      <td>I would never retract that the product seems t...</td>\n",
       "      <td>i would never retract that the product seems t...</td>\n",
       "      <td>[i would never retract that the product seems ...</td>\n",
       "    </tr>\n",
       "  </tbody>\n",
       "</table>\n",
       "</div>"
      ],
      "text/plain": [
       "                                                Text  \\\n",
       "0  My kitties love these treats.  This flavor is ...   \n",
       "1  Our poodle gets one every evening as a special...   \n",
       "2  We got a Keurig system last year for Christmas...   \n",
       "3  Perfect tea for right before bedtime relaxing....   \n",
       "4  I would never retract that the product seems t...   \n",
       "\n",
       "                                        Cleaned_Text  \\\n",
       "0  my kitties love these treats.  this flavor is ...   \n",
       "1  our poodle gets one every evening as a special...   \n",
       "2  we got a keurig system last year for christmas...   \n",
       "3  perfect tea for right before bedtime relaxing....   \n",
       "4  i would never retract that the product seems t...   \n",
       "\n",
       "                                           Sentences  \n",
       "0  [my kitties love these treats., this flavor is...  \n",
       "1  [our poodle gets one every evening as a specia...  \n",
       "2  [we got a keurig system last year for christma...  \n",
       "3  [perfect tea for right before bedtime relaxing...  \n",
       "4  [i would never retract that the product seems ...  "
      ]
     },
     "execution_count": 44,
     "metadata": {},
     "output_type": "execute_result"
    }
   ],
   "source": [
    "# Assuming 'subset_df' is your DataFrame\n",
    "subset_df['Cleaned_Text'] = subset_df['Text'].apply(clean_text)\n",
    "\n",
    "# Optionally, you might want to re-tokenize into sentences if needed for further processing\n",
    "subset_df['Sentences'] = subset_df['Cleaned_Text'].apply(nltk.sent_tokenize)\n",
    "\n",
    "# Display the first few rows to verify the changes\n",
    "subset_df[['Text', 'Cleaned_Text', 'Sentences']].head()\n"
   ]
  },
  {
   "cell_type": "code",
   "execution_count": 45,
   "metadata": {
    "id": "1kfmV7-xO7Fb"
   },
   "outputs": [],
   "source": [
    "# Ensure each entry in 'Sentences' is a flat list of sentences\n",
    "subset_df['Sentences'] = subset_df['Sentences'].apply(lambda s: [sent for sublist in s for sent in (sublist if isinstance(sublist, list) else [sublist])])\n"
   ]
  },
  {
   "cell_type": "code",
   "execution_count": 46,
   "metadata": {
    "colab": {
     "base_uri": "https://localhost:8080/"
    },
    "id": "hLOfnOhwNYIW",
    "outputId": "763224f1-68f9-4409-ec0d-f536fbe3ad0e"
   },
   "outputs": [
    {
     "name": "stdout",
     "output_type": "stream",
     "text": [
      "Summary: whiskas temptations seafood medley flavour treats for cats 3ounce pouches pack of 12  i always include some of these treats whenever i am sending a donation of whatever i am ordering for the center.amazon also donates a percentage of the order to the rescue center when ordered through the link on the rescue centers webpage. im a college kid and so my diet isnt very wholesome but grains such as couscous and rice are extraordinarily cheap and together with multivitamins cover most of my dietary needs.couscous is made from durum wheat and so contains more protein and less starches on average than rice making it a more complete meal. i might buy a few of these bags and just leave them sitting unopened in the closet it makes a very good survival food because couscous can be made into an edible mush by just adding water and allowing it to sit meaning that you could store this stuff indefinitely and consume it in a situation where you have no access to a heat source.and all that for 17th the price that i pay in a grocery store? she soon realizes that to get the lickety stik she has to not do the behavior at all.of course your dog may be different but this has been our experience.also my daughter is working at a local pet store as a grooming assistant and she tells me that they have started using the lickety stik there to help calm their dogs and curb bad behavior while theyre being groomed. to me it tastes more like a teriyaki than just soy sauce.. i think it has a very slight spiciness and sweetness.in maruchan yakisoba there are always plenty of vegetables unless you get the cheese flavored meals and i especially like that this flavor has the wider flat noodles instead of the round ones. cold water might work but it would probably take a long time to rehydrate every thing.another thing you could do if you have plain ramen noodle soup packets around the house that arent getting eaten and you dont have quite the right shaped bowls to cook them in the microwave is save the trays from these and use them. i dont use sweeteners or milk in my tea as a rule but even if i did i wouldnt want to add sugar to this tea its perfectly sweet as it is.since theres no recipe for iced tea on the box i just winged it and put 8 tea bags into a gallon of boiling water then turned it down and let it steep covered for about twenty minutes. you could probably also make it the way my mom made tea in the summer by putting the bags in a gallon jar adding room temperature water sealing it and setting it in the sunniest place in the yard for the day.however you make it you really should try this tea iced.\n"
     ]
    }
   ],
   "source": [
    "from sklearn.feature_extraction.text import TfidfVectorizer\n",
    "import numpy as np\n",
    "from nltk.tokenize import sent_tokenize\n",
    "\n",
    "# Combine all texts into one large document\n",
    "combined_text = \" \".join(subset_df['Cleaned_Text'].tolist())\n",
    "\n",
    "\n",
    "# Tokenize the combined text into sentences\n",
    "sentences = sent_tokenize(combined_text)\n",
    "\n",
    "# Function to summarize the text\n",
    "def summarize_text(sentences, top_n=8):\n",
    "    # Set a reasonable limit for top_n based on the number of sentences available\n",
    "    top_n = min(top_n, len(sentences) // 10 + 1)  # e.g., at least 10% of the sentences, but at least one\n",
    "\n",
    "    if len(sentences) > 1:  # Only proceed if there are multiple sentences\n",
    "        tfidf_vectorizer = TfidfVectorizer(stop_words='english')\n",
    "        tfidf_matrix = tfidf_vectorizer.fit_transform(sentences)\n",
    "        sentence_scores = np.array(tfidf_matrix.sum(axis=1)).ravel()\n",
    "\n",
    "        top_sentence_indices = np.argsort(sentence_scores)[-top_n:][::-1]\n",
    "        top_sentences = [sentences[idx] for idx in sorted(top_sentence_indices)]\n",
    "        return ' '.join(top_sentences)\n",
    "    else:\n",
    "        return sentences[0] if sentences else ''\n",
    "\n",
    "# Apply summarization\n",
    "summary = summarize_text(sentences, top_n=8)\n",
    "print(\"Summary:\", summary)\n"
   ]
  },
  {
   "cell_type": "code",
   "execution_count": 47,
   "metadata": {
    "colab": {
     "base_uri": "https://localhost:8080/"
    },
    "id": "VQUMWkaGOjwC",
    "outputId": "260c9f48-0c25-4438-c11a-33d18b320cd5"
   },
   "outputs": [
    {
     "name": "stdout",
     "output_type": "stream",
     "text": [
      "my kitties love these treats.  this flavor is a favorite of some of the kitties at the rescue center to which i donate. other of their kitties like other temptation flavors .. but they all come running for them. whiskas temptations seafood medley flavour treats for cats 3ounce pouches pack of 12  i always include some of these treats whenever i am sending a donation of whatever i am ordering for the center.amazon also donates a percentage of the order to the rescue center when ordered through the link on the rescue centers webpage.  thanks amazon. our poodle gets one every evening as a special treat. he loves them. i always keep a good supply on hand. it is not only a treat but it helps clean their teeth. we got a keurig system last year for christmas.  it has been great. i however like coffee that has body strength and depth.  most kcups are way too weak for me. note i use a fair bit of milk in my coffee so that colors my interpretations.i tried emerils big easy bold since i am constantly on the lookout for bold coffee.  it does not disappoint.  this is a very good cup of coffee it has the strength i like and the body one is used to from brewed coffee. it does have a pronounced parisian roast flavor my husband calls it cigarette ash flavor which is normal for new orleans style coffee.  if you like that parisian roast taste you will like this coffee.  it is not for the faint hearted! perfect tea for right before bedtime relaxing. have been enjoying stash peppermint tea for years. i would never retract that the product seems to be excellent for our pet... and she really enjoys them.  i guess my now somewhat jaded view of the firm itself is from the fact that we did purchase a bag that was indeed problematic for our dog.  after incurring over 1300 in vet bills to discover that base cause was that new bag of virbac chewies... our contact with virbac was friendly from a customer service standpoint... but the net result was not one dollar of help toward the .. for us... rather substantial vet bill. it seemed to be a management attitude of .... there is no way our product could have had anything to do with the spewing diarhea.... so just go awayneedless to say... we will find an alternative to virbac in the future...its really a shame... because before that bag and since... there has been no problem.  however.... as a small business owner... i cannot support a firm that has such a black and white attitude toward such matters. my son loves the gerber baby foods and this pack saves me from having to buy individual containers.  there arent any additives and these actually taste like the real foods.  some other baby foods just dont taste right.  these containers are also reusable and they dont break like the jars do. our dogs and cat love these liver treats. they are solid enough to keep their shape in training pouches yet soft enough to break into smaller pieces. unfortunately because of their softness when shipped in the largersize container the pieces breakdown into dust before arrival so you really dont get too many more actual pieces than you get with the smaller container.they are real rather than processed and appeal more to the animals that way. they last a long time at least 2 months. i heartily recommend them. i did a with and without taste test with relatives and all noted the huge difference the vinturi made.  i highly recommend it. i read some other reviews here that said theres a metallic taste with this product  thats nonsense.  this tastes almost exactly like regular salt.  i have a serious salt addiction and ive been putting it on almost anything.  of course this has led to me having dangerously high blood pressure.  also salt may have literally saved my life because i will never use real salt again! my family has eaten these for years. they are great for dipping in milk have a lot less sugar and fat than other cookies and are a delicious way to satisfy a sweet tooth. great tea very refreshing. we mix it with celestional seasoning black darling mango tea. great combination. we like it better than the peach passion tea also it is cheaper. super fast dish to prepare and so very good!  i recommend a little tabasco and this dish is golden! i have 2 cats and this has been their fav for many years.  i only need to shake the package and they come running i bought this to use in a hot air popper and it works really well. ive had very few impolite kernels and the popcorn is light and fluffy large pieces. great popcorn and the price makes this a great deal its grrrreat according to hilda! she constantly brings each of her kongs 5 of em trying to get me to stuffn liver paste them. ezsweetz is very good for all diabetics. it does not contain any carbs so it cannot raise  your blood glucose.  it has no taste of its own but it makes  anything you use it on taste sweet. it is somewhat  expensive but is worth it. this is great full bodied hot chocolate.  it is not the wimpy stuff you will usually find that is why i like it so much.  the chocolate taste is fully there.  if it is too chocolaty for the grandchildren you can water it down with some of the wimpy stuff and you can drink it straight! i was pretty psyched to be able to try a case of this sparkling juice out since during the summer i drink a fair amount of juice mixed with soda water. also i grew up in north africa where the clementine grows in abundance and i was looking forward to revisiting a taste of childhood. on the pro side the packaging is attractive the 8.4oz can is a really handy size and theres no added high fructose corn syrup. on the con side the muchtouted fortified aspect consists of 10 of your daily vitamin c b6 and niacin so great big deal there. also the carbonation isnt as strong as i prefer although i will grant that this is a very subjective personal thing. straight out of the can it feels a touch flat to me. finally the biggest con of all  theres no clementine juice in it! when i cracked the first can open and tried it over ice at the end of the glass i thought hmm kind of like clementine but not quite. then i looked at the label and saw that s a blend of white grape apple lemon and orange juice concentrates! well nice try izze...but no cigar. ultimately its something ill keep around to use as a mixer with vodka but not that tasty to me on its own. and frankly i find the labeling of it as clementine totally shameless and offputting. i like a strong cup of coffee. i really like this coffee. ive done a lot of checking and this is the best price by far. this is my go to tea out of all the tea brands and flavors i have tried. i average two of these tea bags at my office every day. i particularly like the fresh blend in stash brand and i think this particular brand makes superior mint tea over other fancy tea brands. my husband and i each have a box in our separate offices and a box at home at all times. yes it really is that good just try it and youll see what i mean.on a related note we have tried the moroccan mint bags and the premium peppermint is much better. this is actually really good couscous.typically i just buy the stuff in my local supermarket in those little 20 oz buckets. it usually costs me around 89 optimistically. this osem north african couscous is a whopping 160 oz for barely a few dollars more! the subscription allows me to buy a new bag every month for a substantially reduced rate which is about how long i suspect this might last me. im a college kid and so my diet isnt very wholesome but grains such as couscous and rice are extraordinarily cheap and together with multivitamins cover most of my dietary needs.couscous is made from durum wheat and so contains more protein and less starches on average than rice making it a more complete meal. ive often gone days eating only couscous due to budgetary concerns. for most normal people who might cook this once a week this bag can probably last 36 months.i was concerned that the bag might come open and damaged due to a bad review i read on here but i believe that was a special case. careful opening of the package revealed an intact and well wrapped heavy bag of couscous. i might buy a few of these bags and just leave them sitting unopened in the closet it makes a very good survival food because couscous can be made into an edible mush by just adding water and allowing it to sit meaning that you could store this stuff indefinitely and consume it in a situation where you have no access to a heat source.and all that for 17th the price that i pay in a grocery store? osem has my stomach. i bought this box to annoy my friend who hates hearing the little kid jokes. were in our mid 20s and have to work in the office for 12 hours on end all the time so anything to make it fun right? they were delicous and were funny in my opinion and a good buy for the money. i just wish i bought 2 buckets since my bucket went missing a week later. if you love jalapeno chips then kettle is a must try.nice and cruncy with the kick of jalapeno.delicious.addicting.recommended. very fast shipping and everything was as promised!its perfect for our daughters wedding and the price was better than all other places. enjoyable all times of the day. just the right amount of salt and flavor. this is becoming a favorite in my house. i also take it to work to satisfy that afternoon craving. we have two dogs and probably ten nylabones laying around the house.  this is the one they now fight over.  not really but if one lays it down the other one is going to pick it up. taste great. dont normally like flavored seeds but these are good. big in size and flavor. resealable bag is nice! these granola bars are crunchy tasty filling and perfect with my morning coffee.  two bars per package.  although they are nutritious and convenient each package equals 4 weight watchers ww points.  kashi bars honey and flaxseed contain more fiber are equally delicious but have only 2 ww points!  hoping to find this option in bulk on amazon.com soon. these are the best almonds. the sea salt roasted add a real great flavor. they go very fast in our house and we are forever checking when the next shipment will arrive. they are also a great source of calcium. it was as good if not better than i was told!  great taste!  i will puchase it again. i tried these mixes because my sister likes them with her bread machine. i just get tired of having to think too much about what to put in my bread so a mix made sense. the yeast is really sensitive to temp use your thermometer to be sure the water is not too hot. reliable delicious bread or rolls with only a few minutes of effort. i want to try them all now. very good product although the added ingredients make it very bad for allergic dogs. a listing of all ingredients on the web site would be very helpful when purchasing. great popcorn and reasonably priced. i use it with my whirly popper flavacol  coconut oil and its great. ill definitely be ordering more. the first time i tried this cookie i was happily surprised. these cookies are delicious and perfect for me when i get that craving for granny b cookies that i used to eat! bought these elsewhere on a whim and was pleasantly surpised.  they are really sweet without any added sugar just apples and cinnamon.  love the fact that they are organic. the crunch is really satisfying.  very easy to eat out of the bag or to mix into oatmeal yogurt etc. highly recommended. im not normally one to tout a product unless it by far exceeds my expectations. licorice is one of those things that either you love it or you are appalled by the idea of black tarry things. i absolutely cant live without it. i have spent numerous wakeing hours pouring through web pages and candy stores trying to find a constant reliable source to purchase it and not just any will do. it must be of perfect  consistancy color and flavor. the scotties fit in all categories. i can order and expect consistantly quick delivery and quality. thanks for being my new and only source. keep up the great work. i ordered this product to color icing to use on cookies as a favor for my wedding. the blue color looks perfect on the computer when i recieved the item it was a lot more green than blue. i guess the reviews i read on this product hyped up my expectations.  i love spicy foods but to me it was only mild.  its still a good product though. when publix in south florida stopped selling post bran flakes we were at a loss...the amount of cereals without high sugar content and taste good is limited.  we went on amazon and purchased this product without question.  the price of the order was less than publix came when it was supposed to and was in perfect condition.  we are on auto delivery and had to change the dates a few times...always handled quickly and without error!  he loves his post bran flakes!! i have a small dog with very bad teeth and she runs from a tooth brush.  so i rely on these every day.  i break them in half and give her a half every morning.  even with bad teeth she has no trouble chewing them up and she loves them. these spices were so aromatic that i thought that they would be overpowering. once cooked they created a flavorful dish. there is no heat so if you are like me you need to really load up on the cayenne.i love that theyre organic also and the price was good. first of all ive never tasted any oat bran prior to ordering bobs red mill oat bran.  upon receipt i made one serving to test it out.  i added some stevia sweetener and a little milk and butter.  i ended up making 2 more servings and gobbled those down too!  after a few days went by i laid off the butter and milk and now eat it with mainly just a little stevia.  i can eat this anytime of the day and ive had it for dinner too!  it taste delicious for a hot cereal and very filling.  i went through one bag in 4 days   but now im down to eating it only for breakfast.  i guess it so easy to make it has been my go to meal when i get hungry and want something that is wholesome.  i definitely recommend this oat bran if youre trying to get more fiber in your diet and want something that is dlicious. i bought a keurig coffee maker for christmas this year. we all enjoy different coffees in our household and making a pot of any type coffee is a waste. my husband is an espresso drinker so i purchased timothys world extra bold rainforest espresso coffee to be made with the small setting on the coffee maker which uses 5.25 oz water. this makes it stronger and he really has enjoyed this coffee. i really recommend this to anyone who enjoys a bold espresso coffee. he was born and raised in italy and has purchased his coffee grounds from italy for years to make an authentic cup of espresso. he is fussy about his espresso so if he likes this one it must be good. we have a new puppy and are attempting to train her using a rewardsbased system. this works well except that we dont feel comfortable giving her treat after treat after treat. then along came the lickety stik and it solved our problem! our puppy loves this and its become an invaluable training tool. we have bought several in different flavors and keep them in different rooms around the house. when our puppy is doing something she shouldnt be doing we give her the appropriate command off wrong leave it etc.. if she does what shes asked we say good girl! grab the lickety stik and she gets a couple of licks. this has worked amazingly well and were not stuffing the puppy with treats. there are some times when we feel shell continue the bad behavior just to get a lickety stik but thats the same with any treat. to solve this once we know she understands the command if she continues to do the behavior she doesnt get the treat. she soon realizes that to get the lickety stik she has to not do the behavior at all.of course your dog may be different but this has been our experience.also my daughter is working at a local pet store as a grooming assistant and she tells me that they have started using the lickety stik there to help calm their dogs and curb bad behavior while theyre being groomed. i felt that was a pretty good endorsement right there. we had an earlier model of this jug with a rope instead of the rubber rope.  my dog was able to get the food out a little easier which i preferred.  this rubber thing in the middle quite effectively blocks the food and my dog gives up.  she used to eat her whole meal everyday in the old jug.  so i am disappointed they changed it. i adopted a dog from rescue shelter who has an allergy to corn. i live in a small town and found no dog food that didnt contain mainly corn. this was perfect and my new pet is doing very well on it and loves it. its an added bonus that it comes straight to my door. i have been looking for dry roasted walnuts for years as that is my favorite type of nuts and favorite preparation of nuts.  when i first found these at rouses i was ecstatic!  i especially enjoyed the addition of a slight flavor of onion and garlic in them.  it was wonderful finding them for an even cheaper bundle price here at amazon.  thanks!!   the noodles are big and have a firm texture.  i dont follow the cheese sauce recipe though.  i add a half stick of butter with the powder and about 3 tbls. of milk and i swear im eating kraft macncheese. these are the best jerky strips i have ever tasted. our family has been eating them for years and they are typically a christmas delight. i found this to be a very smooth and somewhat rich coffee.  very enjoyable with good flavor but not with a lot of depth or darkness.  ethiopia has produced some of the best coffee in the world and while this may not be the best i have ever tasted it is a very good medium roast full flavored coffee without a lot of bitterness.  this is the best cup of pod coffee i have tasted so far.in addition to the pod brewer i also tried this coffee pod in a pourthrough basket with boiling water and also steeping it like a cup of tea and found that the flavor was pretty consistent if not better when brewed outside of the pod brewer i was able to steep the coffee much stronger and to higher yield in a cup with boiling water but slower than the pod brewer.  the pods are marked with which side updown and should be tucked down tight in the pod brewer for the best results.  each pod is individually wrapped airtight and tasted as fresh as any other preground or pod coffee i have tried.  sustainably grown. when i ordered these it was because they were a flavor of maruchan yakisoba i hadnt tried they dont sell soy sauce flavor at the stores i go to and subscribing was very cheap compared to buying the ones i get for 1 each at stores. i must say that maruchan is the best brand of this type of meal of the 2 brands of similar prices in stores imo this and nissin chow mein and this flavor is great. to me it tastes more like a teriyaki than just soy sauce.. i think it has a very slight spiciness and sweetness.in maruchan yakisoba there are always plenty of vegetables unless you get the cheese flavored meals and i especially like that this flavor has the wider flat noodles instead of the round ones. i tried one plain when they arrived and another one  i added cooked shrimp to. i think this would be good with added cooked beef chicken or pork too but youre not missing out at all if you just make it the way it comes without adding any thing.these would also be good to have in case of an emergency because the noodles seem to be precooked and only require rehydration. you could make it by just pouring boiling water or the hottest water available in covering well and letting it sit for a little while  stirring it a couple of times while you wait to get all of the noodles and vegetables into the hot water. cold water might work but it would probably take a long time to rehydrate every thing.another thing you could do if you have plain ramen noodle soup packets around the house that arent getting eaten and you dont have quite the right shaped bowls to cook them in the microwave is save the trays from these and use them. it says on the package not to reuse the tray but i think that is for liability reasons. i have yet to melt one from reusing it. what i like to do is put the noodle block into the bowl add meat andor a bit of small frozen vegetables like corn and peas fill water to just under the line and cook until the noodles are done then add the seasoning packet. i find the full ramen soup packet is too salty for me some times though so if you do this i would add some at a time until it suits your taste. our cats love this stuff anything to keep them quiet had to reorder a 6 pack for the little dears best organic beef jerky ive foundnot sweet. the salt is just right. its flavorful but definitely not spicy. im giving it 4 starts instead of 5 because of all the small pieces. i buy it to have it on the go but eating it on the go is not easy. as another reviewer wrote there are one or two larger pieces and lots of little pieces. really you need a spoon to get them all out of the bag. its kind of messy using your fingers need a wipe handy. over the years i have tried making iced tea out of dozens of different herbal teas and most just end up tasting like lightlyflavored water.  this yogi sweet thai delight tea is the first ive tried that i will make again.  as a matter of fact i intend to have a jug of it in the refrigerator all summer!  the taste is amazingly sweet but not in a sugary way and a little nutty actually coconutty.  i dont use sweeteners or milk in my tea as a rule but even if i did i wouldnt want to add sugar to this tea its perfectly sweet as it is.since theres no recipe for iced tea on the box i just winged it and put 8 tea bags into a gallon of boiling water then turned it down and let it steep covered for about twenty minutes.  you could probably also make it the way my mom made tea in the summer by putting the bags in a gallon jar adding room temperature water sealing it and setting it in the sunniest place in the yard for the day.however you make it you really should try this tea iced.  im not a huge tea drinker normally but im completely hooked on this one. i am so glad i found a place to purchase this product.  i really like ideal.  i use it in my iced tea and it tastes like sugar.  it works really well with hot tea too. it feels strange to review chips but i am compelled because these are my absolute favorite chips. kettle has lots of flavors but i always go back to these regular lightly salted.they are thicker and sometimes greasy at the bottom of the bag plus they often looked burned. they are not actually burned. it has something to do with how much sugar is in the potato that makes it dark. i love to open a bag and find some browned chips.lays and wise have their place but ive become a chip snob thanks to kettle.like edys or breyers ice cream some products are worth the money. these are the best of the best. my 9 year old daughter has celiac disease and these are one of her favorite cookies other than the ones i make!  they are a great quick snack for her to bring and have on hand so that she doesnt feel left out or deprived when cookies are offered to kids in social situations. the ball and the fireplug and a box full of everlasting treat balls were sent as a gift from a friend for my border collie and lab. they love them.my labrador had started a bad habit of getting wound up when i left the house and i figured it was going to escalate into destructiveness if i didnt put a stop to it. i gave him the everlasting chew toy before walking out the door to distract him a few times and now he not only doesnt get wound up before i leave hes asking me to leave.truly hard core chewing fun. always liked lavazza.  there is no bitter aftertaste and find it both good for esspresso maker and regular drip depending on the strength that you like.  it was a great deal from amazon. i have been looking for these cookies for a decade finally found them here. they were great just like i remembered them. the chocolate coating was cracked probably due to shipping but that didnt detract from the taste! will probably order more soon! i have ordered these peanuts way before amazon was a .com. and when i found them on the zon i jumped at the chance. for prime shipping these little suckers.  and yep they are the same wonderful quality. amazing taste! these are the best gf pretzels on the market. we have tried many others and these are far superior. a real winner! what a find.  for those persons who need no or low at best salt and low fat food it is hard to find snack foods that actually taste good.  these chips really do!!  i love them and even for those who can eat anything without remorse these chips will still taste good.  highly recommended. i used to be one of those that had to buy the most expensive coffee.  then one day on a whim i bought eight o clock brand.  since then i never went back to the gourmet blends.the best part is the savings when i signed up for the subscription service.  i save around 2 a bag compared to buying in the store. dogswell has continued to live up to its stellar reputation with these additive free wholesome treats for dogs.i give all of my four footed babies these treats and it adds to an organic diet already rich in good food.  i have yet to meet any pup who doesnt love these treats both for the chewy crunchy needs that dogs need but also for the total nutrition it provides.  if you are worried about the latest pet food recalls from china these treats have never had to be recalled. when i first opened the box i was surprised to find 5 packages of granola bars each with 2 bars each so a 10pack has 5 packages with 2 granola bars in each package i never noticed it was normal to do that with granola bars hence the serving size is 2 bars. the price for each packet is about the same as that of a normal clif bar so i dont know if its really worth it to me. you get about 60 more mass with a clif bar than with this for the same price.that being said they taste decent and taste good broken into pieces with peanut butter and nutella. i use a lot of this kraft cheese. put it on almost anything. at the store you get half the cheese at almost the same price as amazon. great cheese and deal. we have an in home cinema...so we have to have a floor standing popcorn maker.  when we have guest we like to make it a real even with movie popcorn and little popper does just that.  i love the flavor and the convenience of the package that is premeasured for the perfect pop.  i do add just 12 of the salt while popping and the remaining salt i have placed in a shaker for those that like more.  if you are looking for that movie butter flavor this is the one! amazon has the best prices on k cups that i have found anywhere.timothys breakfast blend is one of my favorites.i like the light to medium blends. used to buy this tea at sprouts but they have been out for months so i used the old standby amazon. use it with green and black teas for iced tea and always have cup of green and white teas together before bed. tasty and relaxing. good price great service. my 9 year old cat has had chronic colitis and now inflammatory bowel disease. he has been on steroids rx diets antinausea antacids etc etc etc.  after much research i decided to put him on a wet diet  dry kibble no matter how high quality just doesnt seem to cut it for ibd kitties.  in fact it just aggrevates the situation. after much trial and error of different higher quality cat foods weruva seems to be the answer.  his formerly slushy nasty poo is now normal looking cat poop!  who knew i could think his poo is now just so beautiful... i digress.  he is off all meds.  he was picky about what he would eat but weve found that he loves the weruva brands  he gets paw lickin chicken every night.  the only thing i add to his food is a good probiotic.  i am so pleased with this product.  not only does he love it but it by far looks the best  you can see the quality of this food it is not unidentifiable mush.  as a side note to this review he loves the steak frites as well made by weruva. the product is excellent and the price for a pack of 50 was outstanding!!!when you drink as much coffee as i do you need lots of back up! it was shipped in a matter of days and it was in perfect shape. thank you amazon.com !!! this ball has lasted for almost a year with the zone of destruction that is my dog. she loves this ball simply for the fact that she cant defeat it. this thing even survived a battle with the riding lawn mower... the only reason why i didnt give it five starts is because the treats it comes with are too easy to get out. but if you stick treats in the middle compartment they last a bit longer. this is a terrific baby food.  it has beef and spinach and tastes great!  it was the first meat baby food my son would eat.  i tasted it myself and its quite good. i have been making homemade ice cream for years and have never quite been happy with the chocolate recipes.  they were okay but not what i was looking for or they were too complicated and still didnt give me that nice rich chocolate flavor with a nice chocolate color. finally torani saved the day and now i can take a standard 1 quart recipe and use 23 cup of the torani mocha sauce and without all of the hassel i have the best homemade chocolate ice cream i have ever made. great ice cream topping too. yum! this syrup has a light sugary flavor so i find it easy to use it as a substitute for white sugar the amber is better for brown sugar substitute.  i only use half of what i would add in regular sugar because this is sweeter so im saving some calories there.  when i bake with it i cant even tell anything has been altered. this is a huge amount of salmon that is delicious great packaging and a great gift. good crackers... glad to be able to send them across the us when my bf was away...  he really appreciated receiving his favorite snack. it is really hard to find the good oldfashioned taffy like i recall getting at the county fairs.  this is as close as it comes and in fact tastes just as good as i remember.  great variety of flavors and the 6 packages make for a lot of happy snacking. i bought the ocean fishmy dogs love it and the ichey skin is not as bad.i mix darwins raw meat to it. they really love thatyou should try that you would not be sorry. our dog will turn 14 on thursday.  he has never liked a milk bone or any other hard biscuit.  he loves these!  we bought the large dog biscuits by mistake.  so if you have a tiny dog like charlie do be sure to buy the mini version by this company.we broke these into little pieces and charlie loves them.  he even takes the time to munch for a while on the whole biscuit!  we gave the second bag i ordered to a friend with a larger dog...charlies friend loves them too!ps...i am very particular about ingredients and compatibility with his other foods.  healthy bones by natural balance met both tests. i make a hot holiday drink in my crockpot using this tea. i brew a strong halfgallon of the tea and then add to a gallon of apple juice. its perfect ... not too sweet. my christmas guests loved it last year! no kcup is going to be as good as a brewed coffee unless you like it weak but this is pretty good.  a bold rating is a necessity on kcups just to get medium strong coffee.  if you buy several at once because free shipping is at the 60 level 11th street coffee is a couple of bucks cheaper.  coupon codes are also easy to find for them. im an avid tea drinker have been since i was a child.  i never leave the house without my glass of tea.  i first had this tea in france several years ago and loved it so much i brought some home.  my daughter travels to france frequently and would bring some back for me whenever she could.  im so happy to have found it on amazon.  my family all avid tea drinkers will hardly drink anything else now.  we just love it!  the flavor reminds me of tea i drank as a child dont know if it was orange pekoe and is much much better than the black tea sold in the supermarkets here in the us.  lipton you need to sell this in the us!!  love it! these cookies are delicious. never heard of mothers cookies until someone from california visited my work place. i found them at amazon  ordered some. soo glad i did. they are excellent. a friend of mine recommended this and its wonderful!  i have tried many many kcups in the years since i received my keurig and this is my favorite.  i love strong coffee but not bitter and this fits the bill.  reminds me a little of the coffees i had in italy a few years back.  if you like this you should also try coffee peoples wakeup call and black tiger.  love!! pero is a wonderful substitute for coffee. i discovered it a couple of years ago and was so happy to find it on amazon.com at a very reasonable price. i definitely recommend it to others looking for a coffee substitute. i bought these for a halloween party with a lot of 2  3 year olds.  my kiddos treats were the hit all the kids loved them and asked their parents for more.  several parents said they snuck some of the cookies from their kids and loved them.  a fun snack for all! kraft seems to think they are packaging frenchs yellow mustard in their new plastic squeeze bottles. the hole in the cap is far too big and the delicate dijon comes out in toothpastesized gobs. a little finesse if you please! after trying it for the first time today i am absolutely blown away by how delicious this is as an iced cider. i purchased these kcups for my parents for christmas to go along with the keurig brewer my sister bought for them. i choose these specifically because they were sugar free and seemed to be a good value compared to other kcups. as other reviewers have noted i simply cant understand why there are so many onestar reviews!  the flavor is clean and refreshing and its hard to believe these are sugar free and only 10 calories.  i keep retasting but i dont notice any hint of plastic or artificial sweetner as other reviewers have noted. of all the beverages ive had from the keurig so far this is my favorite.  going to stock up on a few more boxes so i can bring my own when i visit my parents. coffee has very smooth taste.  i had to do some research as to how to use the pods.  best way i found to use pod was to cut open pod and place into coffee filter or just place unopened pod into coffee filter.  it worked quite well and the coffee was not weak but had a strong smooth taste. i work in a business that sells gourmet coffee beans so i like to check out the competition. we sell lots of organic coffee. these espresso roast beans were perfectly roasted. the coffee is smooth and deceptively subtle for such a dark roast. i was jealous. the blend was just right. clean on the palate with an immaculately gentle mouth feel. well done! we discovered this tea at a neighborhood restaurant and it was excellent.  thats indeed why i had order it from you as soon as i saw it. these cookies are amazing and the texture is excellent considering that theyre totally vegan. i got turned on to these cookies before i became veg and imo the pumpkin and lemon cookies are the best. not a fan of the chocolate chip unfortunately but i had no problem texturewise with the lemon and pumpkin flavors at all. these wafers melt in your month!  i buy by the carton.  we all love them.  highly recommended. love these almonds!  great flavor  really hits the spot when those midafternoon hunger cravings set in! you wont be disappointed with this purchase! no detailed analysis here i like the overall taste of this muesli. it is not like the european or australian mueslis ive tried but still pretty good. not a fast breakfast for sure. take your time chewing but be happy that you got a good dose of fiber! i purchased these bread mixes intending to use the finished product with bread dipping herbs and olive oil. my guess was right this bread went perfectly! i baked it in my bread machine and it turned out beautifully with the setting for a medium crust. all i had to add was a little bit of oil and some water. fresh bread doesnt get any easier than that!my only complaint is that one of the boxes of mix did not have the yeast packet included as it should have. other than that no complaints at all. the price was also very reasonable. i love the product and will continue using it. it tastes like the regular brands of spaghetti. love cytomax. when biking i follow the instructions on the label on the proportions when i use it for running i cut it in half it seems to be too much for me. either way love the product!\n"
     ]
    }
   ],
   "source": [
    "print(combined_text)"
   ]
  },
  {
   "cell_type": "code",
   "execution_count": 13,
   "metadata": {},
   "outputs": [
    {
     "name": "stdout",
     "output_type": "stream",
     "text": [
      "Collecting Rouge\n",
      "  Downloading rouge-1.0.1-py3-none-any.whl.metadata (4.1 kB)\n",
      "Requirement already satisfied: six in c:\\users\\gpava\\appdata\\local\\programs\\python\\python311\\lib\\site-packages (from Rouge) (1.16.0)\n",
      "Downloading rouge-1.0.1-py3-none-any.whl (13 kB)\n",
      "Installing collected packages: Rouge\n",
      "Successfully installed Rouge-1.0.1\n",
      "Note: you may need to restart the kernel to use updated packages.\n"
     ]
    }
   ],
   "source": [
    "pip install Rouge"
   ]
  },
  {
   "cell_type": "code",
   "execution_count": 48,
   "metadata": {
    "colab": {
     "base_uri": "https://localhost:8080/"
    },
    "id": "X8YA-no3Pvt4",
    "outputId": "4d639d89-e26d-4a17-e875-441ac709815a"
   },
   "outputs": [
    {
     "name": "stdout",
     "output_type": "stream",
     "text": [
      "[{'rouge-1': {'r': 1.0, 'p': 0.17019987886129617, 'f': 0.2908902666653218}, 'rouge-2': {'r': 0.989406779661017, 'p': 0.08627378533160909, 'f': 0.1587085796630629}, 'rouge-l': {'r': 1.0, 'p': 0.17019987886129617, 'f': 0.2908902666653218}}]\n"
     ]
    }
   ],
   "source": [
    "from rouge import Rouge\n",
    "\n",
    "rouge = Rouge()\n",
    "scores = rouge.get_scores(combined_text, summary)\n",
    "print(scores)\n"
   ]
  },
  {
   "cell_type": "code",
   "execution_count": 30,
   "metadata": {
    "colab": {
     "base_uri": "https://localhost:8080/"
    },
    "id": "-Dsm_pKlYuMu",
    "outputId": "b2102bb8-2319-4ba5-8439-9bb910c3821e"
   },
   "outputs": [
    {
     "name": "stdout",
     "output_type": "stream",
     "text": [
      "Collecting rouge\n",
      "  Downloading rouge-1.0.1-py3-none-any.whl (13 kB)\n",
      "Requirement already satisfied: six in /usr/local/lib/python3.10/dist-packages (from rouge) (1.16.0)\n",
      "Installing collected packages: rouge\n",
      "Successfully installed rouge-1.0.1\n"
     ]
    }
   ],
   "source": [
    "pip install rouge"
   ]
  },
  {
   "cell_type": "code",
   "execution_count": 18,
   "metadata": {},
   "outputs": [
    {
     "name": "stdout",
     "output_type": "stream",
     "text": [
      "my kitties love these treats.  this flavor is a favorite of some of the kitties at the rescue center to which i donate. other of their kitties like other temptation flavors .. but they all come running for them. whiskas temptations seafood medley flavour treats for cats 3ounce pouches pack of 12  i always include some of these treats whenever i am sending a donation of whatever i am ordering for the center.amazon also donates a percentage of the order to the rescue center when ordered through the link on the rescue centers webpage.  thanks amazon. our poodle gets one every evening as a special treat. he loves them. i always keep a good supply on hand. it is not only a treat but it helps clean their teeth. we got a keurig system last year for christmas.  it has been great. i however like coffee that has body strength and depth.  most kcups are way too weak for me. note i use a fair bit of milk in my coffee so that colors my interpretations.i tried emerils big easy bold since i am constantly on the lookout for bold coffee.  it does not disappoint.  this is a very good cup of coffee it has the strength i like and the body one is used to from brewed coffee. it does have a pronounced parisian roast flavor my husband calls it cigarette ash flavor which is normal for new orleans style coffee.  if you like that parisian roast taste you will like this coffee.  it is not for the faint hearted! perfect tea for right before bedtime relaxing. have been enjoying stash peppermint tea for years. i would never retract that the product seems to be excellent for our pet... and she really enjoys them.  i guess my now somewhat jaded view of the firm itself is from the fact that we did purchase a bag that was indeed problematic for our dog.  after incurring over 1300 in vet bills to discover that base cause was that new bag of virbac chewies... our contact with virbac was friendly from a customer service standpoint... but the net result was not one dollar of help toward the .. for us... rather substantial vet bill. it seemed to be a management attitude of .... there is no way our product could have had anything to do with the spewing diarhea.... so just go awayneedless to say... we will find an alternative to virbac in the future...its really a shame... because before that bag and since... there has been no problem.  however.... as a small business owner... i cannot support a firm that has such a black and white attitude toward such matters. my son loves the gerber baby foods and this pack saves me from having to buy individual containers.  there arent any additives and these actually taste like the real foods.  some other baby foods just dont taste right.  these containers are also reusable and they dont break like the jars do. our dogs and cat love these liver treats. they are solid enough to keep their shape in training pouches yet soft enough to break into smaller pieces. unfortunately because of their softness when shipped in the largersize container the pieces breakdown into dust before arrival so you really dont get too many more actual pieces than you get with the smaller container.they are real rather than processed and appeal more to the animals that way. they last a long time at least 2 months. i heartily recommend them. i did a with and without taste test with relatives and all noted the huge difference the vinturi made.  i highly recommend it. i read some other reviews here that said theres a metallic taste with this product  thats nonsense.  this tastes almost exactly like regular salt.  i have a serious salt addiction and ive been putting it on almost anything.  of course this has led to me having dangerously high blood pressure.  also salt may have literally saved my life because i will never use real salt again! my family has eaten these for years. they are great for dipping in milk have a lot less sugar and fat than other cookies and are a delicious way to satisfy a sweet tooth. great tea very refreshing. we mix it with celestional seasoning black darling mango tea. great combination. we like it better than the peach passion tea also it is cheaper. super fast dish to prepare and so very good!  i recommend a little tabasco and this dish is golden! i have 2 cats and this has been their fav for many years.  i only need to shake the package and they come running i bought this to use in a hot air popper and it works really well. ive had very few impolite kernels and the popcorn is light and fluffy large pieces. great popcorn and the price makes this a great deal its grrrreat according to hilda! she constantly brings each of her kongs 5 of em trying to get me to stuffn liver paste them. ezsweetz is very good for all diabetics. it does not contain any carbs so it cannot raise  your blood glucose.  it has no taste of its own but it makes  anything you use it on taste sweet. it is somewhat  expensive but is worth it. this is great full bodied hot chocolate.  it is not the wimpy stuff you will usually find that is why i like it so much.  the chocolate taste is fully there.  if it is too chocolaty for the grandchildren you can water it down with some of the wimpy stuff and you can drink it straight! i was pretty psyched to be able to try a case of this sparkling juice out since during the summer i drink a fair amount of juice mixed with soda water. also i grew up in north africa where the clementine grows in abundance and i was looking forward to revisiting a taste of childhood. on the pro side the packaging is attractive the 8.4oz can is a really handy size and theres no added high fructose corn syrup. on the con side the muchtouted fortified aspect consists of 10 of your daily vitamin c b6 and niacin so great big deal there. also the carbonation isnt as strong as i prefer although i will grant that this is a very subjective personal thing. straight out of the can it feels a touch flat to me. finally the biggest con of all  theres no clementine juice in it! when i cracked the first can open and tried it over ice at the end of the glass i thought hmm kind of like clementine but not quite. then i looked at the label and saw that s a blend of white grape apple lemon and orange juice concentrates! well nice try izze...but no cigar. ultimately its something ill keep around to use as a mixer with vodka but not that tasty to me on its own. and frankly i find the labeling of it as clementine totally shameless and offputting. i like a strong cup of coffee. i really like this coffee. ive done a lot of checking and this is the best price by far. this is my go to tea out of all the tea brands and flavors i have tried. i average two of these tea bags at my office every day. i particularly like the fresh blend in stash brand and i think this particular brand makes superior mint tea over other fancy tea brands. my husband and i each have a box in our separate offices and a box at home at all times. yes it really is that good just try it and youll see what i mean.on a related note we have tried the moroccan mint bags and the premium peppermint is much better. this is actually really good couscous.typically i just buy the stuff in my local supermarket in those little 20 oz buckets. it usually costs me around 89 optimistically. this osem north african couscous is a whopping 160 oz for barely a few dollars more! the subscription allows me to buy a new bag every month for a substantially reduced rate which is about how long i suspect this might last me. im a college kid and so my diet isnt very wholesome but grains such as couscous and rice are extraordinarily cheap and together with multivitamins cover most of my dietary needs.couscous is made from durum wheat and so contains more protein and less starches on average than rice making it a more complete meal. ive often gone days eating only couscous due to budgetary concerns. for most normal people who might cook this once a week this bag can probably last 36 months.i was concerned that the bag might come open and damaged due to a bad review i read on here but i believe that was a special case. careful opening of the package revealed an intact and well wrapped heavy bag of couscous. i might buy a few of these bags and just leave them sitting unopened in the closet it makes a very good survival food because couscous can be made into an edible mush by just adding water and allowing it to sit meaning that you could store this stuff indefinitely and consume it in a situation where you have no access to a heat source.and all that for 17th the price that i pay in a grocery store? osem has my stomach. i bought this box to annoy my friend who hates hearing the little kid jokes. were in our mid 20s and have to work in the office for 12 hours on end all the time so anything to make it fun right? they were delicous and were funny in my opinion and a good buy for the money. i just wish i bought 2 buckets since my bucket went missing a week later. if you love jalapeno chips then kettle is a must try.nice and cruncy with the kick of jalapeno.delicious.addicting.recommended. very fast shipping and everything was as promised!its perfect for our daughters wedding and the price was better than all other places. enjoyable all times of the day. just the right amount of salt and flavor. this is becoming a favorite in my house. i also take it to work to satisfy that afternoon craving. we have two dogs and probably ten nylabones laying around the house.  this is the one they now fight over.  not really but if one lays it down the other one is going to pick it up. taste great. dont normally like flavored seeds but these are good. big in size and flavor. resealable bag is nice! these granola bars are crunchy tasty filling and perfect with my morning coffee.  two bars per package.  although they are nutritious and convenient each package equals 4 weight watchers ww points.  kashi bars honey and flaxseed contain more fiber are equally delicious but have only 2 ww points!  hoping to find this option in bulk on amazon.com soon. these are the best almonds. the sea salt roasted add a real great flavor. they go very fast in our house and we are forever checking when the next shipment will arrive. they are also a great source of calcium. it was as good if not better than i was told!  great taste!  i will puchase it again. i tried these mixes because my sister likes them with her bread machine. i just get tired of having to think too much about what to put in my bread so a mix made sense. the yeast is really sensitive to temp use your thermometer to be sure the water is not too hot. reliable delicious bread or rolls with only a few minutes of effort. i want to try them all now. very good product although the added ingredients make it very bad for allergic dogs. a listing of all ingredients on the web site would be very helpful when purchasing. great popcorn and reasonably priced. i use it with my whirly popper flavacol  coconut oil and its great. ill definitely be ordering more. the first time i tried this cookie i was happily surprised. these cookies are delicious and perfect for me when i get that craving for granny b cookies that i used to eat! bought these elsewhere on a whim and was pleasantly surpised.  they are really sweet without any added sugar just apples and cinnamon.  love the fact that they are organic. the crunch is really satisfying.  very easy to eat out of the bag or to mix into oatmeal yogurt etc. highly recommended. im not normally one to tout a product unless it by far exceeds my expectations. licorice is one of those things that either you love it or you are appalled by the idea of black tarry things. i absolutely cant live without it. i have spent numerous wakeing hours pouring through web pages and candy stores trying to find a constant reliable source to purchase it and not just any will do. it must be of perfect  consistancy color and flavor. the scotties fit in all categories. i can order and expect consistantly quick delivery and quality. thanks for being my new and only source. keep up the great work. i ordered this product to color icing to use on cookies as a favor for my wedding. the blue color looks perfect on the computer when i recieved the item it was a lot more green than blue. i guess the reviews i read on this product hyped up my expectations.  i love spicy foods but to me it was only mild.  its still a good product though. when publix in south florida stopped selling post bran flakes we were at a loss...the amount of cereals without high sugar content and taste good is limited.  we went on amazon and purchased this product without question.  the price of the order was less than publix came when it was supposed to and was in perfect condition.  we are on auto delivery and had to change the dates a few times...always handled quickly and without error!  he loves his post bran flakes!! i have a small dog with very bad teeth and she runs from a tooth brush.  so i rely on these every day.  i break them in half and give her a half every morning.  even with bad teeth she has no trouble chewing them up and she loves them. these spices were so aromatic that i thought that they would be overpowering. once cooked they created a flavorful dish. there is no heat so if you are like me you need to really load up on the cayenne.i love that theyre organic also and the price was good. first of all ive never tasted any oat bran prior to ordering bobs red mill oat bran.  upon receipt i made one serving to test it out.  i added some stevia sweetener and a little milk and butter.  i ended up making 2 more servings and gobbled those down too!  after a few days went by i laid off the butter and milk and now eat it with mainly just a little stevia.  i can eat this anytime of the day and ive had it for dinner too!  it taste delicious for a hot cereal and very filling.  i went through one bag in 4 days   but now im down to eating it only for breakfast.  i guess it so easy to make it has been my go to meal when i get hungry and want something that is wholesome.  i definitely recommend this oat bran if youre trying to get more fiber in your diet and want something that is dlicious. i bought a keurig coffee maker for christmas this year. we all enjoy different coffees in our household and making a pot of any type coffee is a waste. my husband is an espresso drinker so i purchased timothys world extra bold rainforest espresso coffee to be made with the small setting on the coffee maker which uses 5.25 oz water. this makes it stronger and he really has enjoyed this coffee. i really recommend this to anyone who enjoys a bold espresso coffee. he was born and raised in italy and has purchased his coffee grounds from italy for years to make an authentic cup of espresso. he is fussy about his espresso so if he likes this one it must be good. we have a new puppy and are attempting to train her using a rewardsbased system. this works well except that we dont feel comfortable giving her treat after treat after treat. then along came the lickety stik and it solved our problem! our puppy loves this and its become an invaluable training tool. we have bought several in different flavors and keep them in different rooms around the house. when our puppy is doing something she shouldnt be doing we give her the appropriate command off wrong leave it etc.. if she does what shes asked we say good girl! grab the lickety stik and she gets a couple of licks. this has worked amazingly well and were not stuffing the puppy with treats. there are some times when we feel shell continue the bad behavior just to get a lickety stik but thats the same with any treat. to solve this once we know she understands the command if she continues to do the behavior she doesnt get the treat. she soon realizes that to get the lickety stik she has to not do the behavior at all.of course your dog may be different but this has been our experience.also my daughter is working at a local pet store as a grooming assistant and she tells me that they have started using the lickety stik there to help calm their dogs and curb bad behavior while theyre being groomed. i felt that was a pretty good endorsement right there. we had an earlier model of this jug with a rope instead of the rubber rope.  my dog was able to get the food out a little easier which i preferred.  this rubber thing in the middle quite effectively blocks the food and my dog gives up.  she used to eat her whole meal everyday in the old jug.  so i am disappointed they changed it. i adopted a dog from rescue shelter who has an allergy to corn. i live in a small town and found no dog food that didnt contain mainly corn. this was perfect and my new pet is doing very well on it and loves it. its an added bonus that it comes straight to my door. i have been looking for dry roasted walnuts for years as that is my favorite type of nuts and favorite preparation of nuts.  when i first found these at rouses i was ecstatic!  i especially enjoyed the addition of a slight flavor of onion and garlic in them.  it was wonderful finding them for an even cheaper bundle price here at amazon.  thanks!!   the noodles are big and have a firm texture.  i dont follow the cheese sauce recipe though.  i add a half stick of butter with the powder and about 3 tbls. of milk and i swear im eating kraft macncheese. these are the best jerky strips i have ever tasted. our family has been eating them for years and they are typically a christmas delight. i found this to be a very smooth and somewhat rich coffee.  very enjoyable with good flavor but not with a lot of depth or darkness.  ethiopia has produced some of the best coffee in the world and while this may not be the best i have ever tasted it is a very good medium roast full flavored coffee without a lot of bitterness.  this is the best cup of pod coffee i have tasted so far.in addition to the pod brewer i also tried this coffee pod in a pourthrough basket with boiling water and also steeping it like a cup of tea and found that the flavor was pretty consistent if not better when brewed outside of the pod brewer i was able to steep the coffee much stronger and to higher yield in a cup with boiling water but slower than the pod brewer.  the pods are marked with which side updown and should be tucked down tight in the pod brewer for the best results.  each pod is individually wrapped airtight and tasted as fresh as any other preground or pod coffee i have tried.  sustainably grown. when i ordered these it was because they were a flavor of maruchan yakisoba i hadnt tried they dont sell soy sauce flavor at the stores i go to and subscribing was very cheap compared to buying the ones i get for 1 each at stores. i must say that maruchan is the best brand of this type of meal of the 2 brands of similar prices in stores imo this and nissin chow mein and this flavor is great. to me it tastes more like a teriyaki than just soy sauce.. i think it has a very slight spiciness and sweetness.in maruchan yakisoba there are always plenty of vegetables unless you get the cheese flavored meals and i especially like that this flavor has the wider flat noodles instead of the round ones. i tried one plain when they arrived and another one  i added cooked shrimp to. i think this would be good with added cooked beef chicken or pork too but youre not missing out at all if you just make it the way it comes without adding any thing.these would also be good to have in case of an emergency because the noodles seem to be precooked and only require rehydration. you could make it by just pouring boiling water or the hottest water available in covering well and letting it sit for a little while  stirring it a couple of times while you wait to get all of the noodles and vegetables into the hot water. cold water might work but it would probably take a long time to rehydrate every thing.another thing you could do if you have plain ramen noodle soup packets around the house that arent getting eaten and you dont have quite the right shaped bowls to cook them in the microwave is save the trays from these and use them. it says on the package not to reuse the tray but i think that is for liability reasons. i have yet to melt one from reusing it. what i like to do is put the noodle block into the bowl add meat andor a bit of small frozen vegetables like corn and peas fill water to just under the line and cook until the noodles are done then add the seasoning packet. i find the full ramen soup packet is too salty for me some times though so if you do this i would add some at a time until it suits your taste. our cats love this stuff anything to keep them quiet had to reorder a 6 pack for the little dears best organic beef jerky ive foundnot sweet. the salt is just right. its flavorful but definitely not spicy. im giving it 4 starts instead of 5 because of all the small pieces. i buy it to have it on the go but eating it on the go is not easy. as another reviewer wrote there are one or two larger pieces and lots of little pieces. really you need a spoon to get them all out of the bag. its kind of messy using your fingers need a wipe handy. over the years i have tried making iced tea out of dozens of different herbal teas and most just end up tasting like lightlyflavored water.  this yogi sweet thai delight tea is the first ive tried that i will make again.  as a matter of fact i intend to have a jug of it in the refrigerator all summer!  the taste is amazingly sweet but not in a sugary way and a little nutty actually coconutty.  i dont use sweeteners or milk in my tea as a rule but even if i did i wouldnt want to add sugar to this tea its perfectly sweet as it is.since theres no recipe for iced tea on the box i just winged it and put 8 tea bags into a gallon of boiling water then turned it down and let it steep covered for about twenty minutes.  you could probably also make it the way my mom made tea in the summer by putting the bags in a gallon jar adding room temperature water sealing it and setting it in the sunniest place in the yard for the day.however you make it you really should try this tea iced.  im not a huge tea drinker normally but im completely hooked on this one. i am so glad i found a place to purchase this product.  i really like ideal.  i use it in my iced tea and it tastes like sugar.  it works really well with hot tea too. it feels strange to review chips but i am compelled because these are my absolute favorite chips. kettle has lots of flavors but i always go back to these regular lightly salted.they are thicker and sometimes greasy at the bottom of the bag plus they often looked burned. they are not actually burned. it has something to do with how much sugar is in the potato that makes it dark. i love to open a bag and find some browned chips.lays and wise have their place but ive become a chip snob thanks to kettle.like edys or breyers ice cream some products are worth the money. these are the best of the best. my 9 year old daughter has celiac disease and these are one of her favorite cookies other than the ones i make!  they are a great quick snack for her to bring and have on hand so that she doesnt feel left out or deprived when cookies are offered to kids in social situations. the ball and the fireplug and a box full of everlasting treat balls were sent as a gift from a friend for my border collie and lab. they love them.my labrador had started a bad habit of getting wound up when i left the house and i figured it was going to escalate into destructiveness if i didnt put a stop to it. i gave him the everlasting chew toy before walking out the door to distract him a few times and now he not only doesnt get wound up before i leave hes asking me to leave.truly hard core chewing fun. always liked lavazza.  there is no bitter aftertaste and find it both good for esspresso maker and regular drip depending on the strength that you like.  it was a great deal from amazon. i have been looking for these cookies for a decade finally found them here. they were great just like i remembered them. the chocolate coating was cracked probably due to shipping but that didnt detract from the taste! will probably order more soon! i have ordered these peanuts way before amazon was a .com. and when i found them on the zon i jumped at the chance. for prime shipping these little suckers.  and yep they are the same wonderful quality. amazing taste! these are the best gf pretzels on the market. we have tried many others and these are far superior. a real winner! what a find.  for those persons who need no or low at best salt and low fat food it is hard to find snack foods that actually taste good.  these chips really do!!  i love them and even for those who can eat anything without remorse these chips will still taste good.  highly recommended. i used to be one of those that had to buy the most expensive coffee.  then one day on a whim i bought eight o clock brand.  since then i never went back to the gourmet blends.the best part is the savings when i signed up for the subscription service.  i save around 2 a bag compared to buying in the store. dogswell has continued to live up to its stellar reputation with these additive free wholesome treats for dogs.i give all of my four footed babies these treats and it adds to an organic diet already rich in good food.  i have yet to meet any pup who doesnt love these treats both for the chewy crunchy needs that dogs need but also for the total nutrition it provides.  if you are worried about the latest pet food recalls from china these treats have never had to be recalled. when i first opened the box i was surprised to find 5 packages of granola bars each with 2 bars each so a 10pack has 5 packages with 2 granola bars in each package i never noticed it was normal to do that with granola bars hence the serving size is 2 bars. the price for each packet is about the same as that of a normal clif bar so i dont know if its really worth it to me. you get about 60 more mass with a clif bar than with this for the same price.that being said they taste decent and taste good broken into pieces with peanut butter and nutella. i use a lot of this kraft cheese. put it on almost anything. at the store you get half the cheese at almost the same price as amazon. great cheese and deal. we have an in home cinema...so we have to have a floor standing popcorn maker.  when we have guest we like to make it a real even with movie popcorn and little popper does just that.  i love the flavor and the convenience of the package that is premeasured for the perfect pop.  i do add just 12 of the salt while popping and the remaining salt i have placed in a shaker for those that like more.  if you are looking for that movie butter flavor this is the one! amazon has the best prices on k cups that i have found anywhere.timothys breakfast blend is one of my favorites.i like the light to medium blends. used to buy this tea at sprouts but they have been out for months so i used the old standby amazon. use it with green and black teas for iced tea and always have cup of green and white teas together before bed. tasty and relaxing. good price great service. my 9 year old cat has had chronic colitis and now inflammatory bowel disease. he has been on steroids rx diets antinausea antacids etc etc etc.  after much research i decided to put him on a wet diet  dry kibble no matter how high quality just doesnt seem to cut it for ibd kitties.  in fact it just aggrevates the situation. after much trial and error of different higher quality cat foods weruva seems to be the answer.  his formerly slushy nasty poo is now normal looking cat poop!  who knew i could think his poo is now just so beautiful... i digress.  he is off all meds.  he was picky about what he would eat but weve found that he loves the weruva brands  he gets paw lickin chicken every night.  the only thing i add to his food is a good probiotic.  i am so pleased with this product.  not only does he love it but it by far looks the best  you can see the quality of this food it is not unidentifiable mush.  as a side note to this review he loves the steak frites as well made by weruva. the product is excellent and the price for a pack of 50 was outstanding!!!when you drink as much coffee as i do you need lots of back up! it was shipped in a matter of days and it was in perfect shape. thank you amazon.com !!! this ball has lasted for almost a year with the zone of destruction that is my dog. she loves this ball simply for the fact that she cant defeat it. this thing even survived a battle with the riding lawn mower... the only reason why i didnt give it five starts is because the treats it comes with are too easy to get out. but if you stick treats in the middle compartment they last a bit longer. this is a terrific baby food.  it has beef and spinach and tastes great!  it was the first meat baby food my son would eat.  i tasted it myself and its quite good. i have been making homemade ice cream for years and have never quite been happy with the chocolate recipes.  they were okay but not what i was looking for or they were too complicated and still didnt give me that nice rich chocolate flavor with a nice chocolate color. finally torani saved the day and now i can take a standard 1 quart recipe and use 23 cup of the torani mocha sauce and without all of the hassel i have the best homemade chocolate ice cream i have ever made. great ice cream topping too. yum! this syrup has a light sugary flavor so i find it easy to use it as a substitute for white sugar the amber is better for brown sugar substitute.  i only use half of what i would add in regular sugar because this is sweeter so im saving some calories there.  when i bake with it i cant even tell anything has been altered. this is a huge amount of salmon that is delicious great packaging and a great gift. good crackers... glad to be able to send them across the us when my bf was away...  he really appreciated receiving his favorite snack. it is really hard to find the good oldfashioned taffy like i recall getting at the county fairs.  this is as close as it comes and in fact tastes just as good as i remember.  great variety of flavors and the 6 packages make for a lot of happy snacking. i bought the ocean fishmy dogs love it and the ichey skin is not as bad.i mix darwins raw meat to it. they really love thatyou should try that you would not be sorry. our dog will turn 14 on thursday.  he has never liked a milk bone or any other hard biscuit.  he loves these!  we bought the large dog biscuits by mistake.  so if you have a tiny dog like charlie do be sure to buy the mini version by this company.we broke these into little pieces and charlie loves them.  he even takes the time to munch for a while on the whole biscuit!  we gave the second bag i ordered to a friend with a larger dog...charlies friend loves them too!ps...i am very particular about ingredients and compatibility with his other foods.  healthy bones by natural balance met both tests. i make a hot holiday drink in my crockpot using this tea. i brew a strong halfgallon of the tea and then add to a gallon of apple juice. its perfect ... not too sweet. my christmas guests loved it last year! no kcup is going to be as good as a brewed coffee unless you like it weak but this is pretty good.  a bold rating is a necessity on kcups just to get medium strong coffee.  if you buy several at once because free shipping is at the 60 level 11th street coffee is a couple of bucks cheaper.  coupon codes are also easy to find for them. im an avid tea drinker have been since i was a child.  i never leave the house without my glass of tea.  i first had this tea in france several years ago and loved it so much i brought some home.  my daughter travels to france frequently and would bring some back for me whenever she could.  im so happy to have found it on amazon.  my family all avid tea drinkers will hardly drink anything else now.  we just love it!  the flavor reminds me of tea i drank as a child dont know if it was orange pekoe and is much much better than the black tea sold in the supermarkets here in the us.  lipton you need to sell this in the us!!  love it! these cookies are delicious. never heard of mothers cookies until someone from california visited my work place. i found them at amazon  ordered some. soo glad i did. they are excellent. a friend of mine recommended this and its wonderful!  i have tried many many kcups in the years since i received my keurig and this is my favorite.  i love strong coffee but not bitter and this fits the bill.  reminds me a little of the coffees i had in italy a few years back.  if you like this you should also try coffee peoples wakeup call and black tiger.  love!! pero is a wonderful substitute for coffee. i discovered it a couple of years ago and was so happy to find it on amazon.com at a very reasonable price. i definitely recommend it to others looking for a coffee substitute. i bought these for a halloween party with a lot of 2  3 year olds.  my kiddos treats were the hit all the kids loved them and asked their parents for more.  several parents said they snuck some of the cookies from their kids and loved them.  a fun snack for all! kraft seems to think they are packaging frenchs yellow mustard in their new plastic squeeze bottles. the hole in the cap is far too big and the delicate dijon comes out in toothpastesized gobs. a little finesse if you please! after trying it for the first time today i am absolutely blown away by how delicious this is as an iced cider. i purchased these kcups for my parents for christmas to go along with the keurig brewer my sister bought for them. i choose these specifically because they were sugar free and seemed to be a good value compared to other kcups. as other reviewers have noted i simply cant understand why there are so many onestar reviews!  the flavor is clean and refreshing and its hard to believe these are sugar free and only 10 calories.  i keep retasting but i dont notice any hint of plastic or artificial sweetner as other reviewers have noted. of all the beverages ive had from the keurig so far this is my favorite.  going to stock up on a few more boxes so i can bring my own when i visit my parents. coffee has very smooth taste.  i had to do some research as to how to use the pods.  best way i found to use pod was to cut open pod and place into coffee filter or just place unopened pod into coffee filter.  it worked quite well and the coffee was not weak but had a strong smooth taste. i work in a business that sells gourmet coffee beans so i like to check out the competition. we sell lots of organic coffee. these espresso roast beans were perfectly roasted. the coffee is smooth and deceptively subtle for such a dark roast. i was jealous. the blend was just right. clean on the palate with an immaculately gentle mouth feel. well done! we discovered this tea at a neighborhood restaurant and it was excellent.  thats indeed why i had order it from you as soon as i saw it. these cookies are amazing and the texture is excellent considering that theyre totally vegan. i got turned on to these cookies before i became veg and imo the pumpkin and lemon cookies are the best. not a fan of the chocolate chip unfortunately but i had no problem texturewise with the lemon and pumpkin flavors at all. these wafers melt in your month!  i buy by the carton.  we all love them.  highly recommended. love these almonds!  great flavor  really hits the spot when those midafternoon hunger cravings set in! you wont be disappointed with this purchase! no detailed analysis here i like the overall taste of this muesli. it is not like the european or australian mueslis ive tried but still pretty good. not a fast breakfast for sure. take your time chewing but be happy that you got a good dose of fiber! i purchased these bread mixes intending to use the finished product with bread dipping herbs and olive oil. my guess was right this bread went perfectly! i baked it in my bread machine and it turned out beautifully with the setting for a medium crust. all i had to add was a little bit of oil and some water. fresh bread doesnt get any easier than that!my only complaint is that one of the boxes of mix did not have the yeast packet included as it should have. other than that no complaints at all. the price was also very reasonable. i love the product and will continue using it. it tastes like the regular brands of spaghetti. love cytomax. when biking i follow the instructions on the label on the proportions when i use it for running i cut it in half it seems to be too much for me. either way love the product!\n"
     ]
    }
   ],
   "source": [
    "print(combined_text)"
   ]
  },
  {
   "cell_type": "code",
   "execution_count": null,
   "metadata": {
    "id": "ZytqxDWTAxFu"
   },
   "outputs": [
    {
     "name": "stderr",
     "output_type": "stream",
     "text": [
      "[nltk_data] Downloading package punkt to\n",
      "[nltk_data]     C:\\Users\\gpava\\AppData\\Roaming\\nltk_data...\n",
      "[nltk_data]   Package punkt is already up-to-date!\n"
     ]
    }
   ],
   "source": [
    "import torch\n",
    "from transformers import DistilBertModel, DistilBertTokenizer\n",
    "from nltk.tokenize import sent_tokenize\n",
    "import nltk\n",
    "from sklearn.metrics.pairwise import cosine_similarity\n",
    "from sklearn.cluster import KMeans\n",
    "import numpy as np\n",
    "\n",
    "# Ensure required NLTK packages are downloaded\n",
    "nltk.download('punkt')\n",
    "\n",
    "# Load pre-trained model and tokenizer\n",
    "model_name = 'distilbert-base-uncased'\n",
    "tokenizer = DistilBertTokenizer.from_pretrained(model_name)\n",
    "model = DistilBertModel.from_pretrained(model_name)\n",
    "\n",
    "def get_embedding(text):\n",
    "    inputs = tokenizer(text, return_tensors=\"pt\", padding=True, truncation=True, max_length=512)\n",
    "    outputs = model(**inputs)\n",
    "    # Take the mean across the token dimension to reduce to a single vector per sentence\n",
    "    return outputs.last_hidden_state.mean(dim=1).squeeze()\n",
    "\n",
    "# Text and processing\n",
    "text = combined_text\n",
    "\n",
    "if len(sentences) > 1:\n",
    "    # Calculate embeddings for each sentence\n",
    "    embeddings = torch.stack([get_embedding(sentence) for sentence in sentences])\n",
    "\n",
    "    # Flatten the embeddings tensor from 3D to 2D for compatibility with cosine_similarity and clustering\n",
    "    embeddings_2d = embeddings.detach().numpy()\n",
    "\n",
    "    # Calculate document embedding as mean of sentence embeddings\n",
    "    doc_embedding = embeddings.mean(dim=0)\n",
    "\n",
    "    # Calculate cosine similarity with each sentence\n",
    "    cosine_similarities = torch.nn.functional.cosine_similarity(embeddings, doc_embedding.unsqueeze(0))\n",
    "\n",
    "    # Cluster sentences using KMeans\n",
    "    num_clusters = min(max(3, len(sentences) // 5), len(sentences))  # Define number of clusters, adjust as necessary\n",
    "    kmeans = KMeans(n_clusters=num_clusters, random_state=0).fit(embeddings_2d)\n",
    "    cluster_labels = kmeans.labels_\n",
    "\n",
    "    # Select one sentence per cluster based on cosine similarity to the document embedding\n",
    "    selected_indices = []\n",
    "    for cluster in range(num_clusters):\n",
    "        indices_in_cluster = np.where(cluster_labels == cluster)[0]\n",
    "        if indices_in_cluster.size > 0:\n",
    "            best_idx = sorted(indices_in_cluster, key=lambda idx: cosine_similarities[idx], reverse=True)[0]\n",
    "            selected_indices.append(best_idx)\n",
    "\n",
    "    selected_indices = sorted(set(selected_indices))  # Ensure indices are unique and sorted\n",
    "    summary_sentences = [sentences[idx] for idx in selected_indices]\n",
    "    summary = ' '.join(summary_sentences)\n",
    "else:\n",
    "    summary = sentences[0] if sentences else 'No text provided.'\n",
    "\n",
    "print(\"Summary:\", summary)\n"
   ]
  },
  {
   "cell_type": "code",
   "execution_count": 21,
   "metadata": {},
   "outputs": [
    {
     "name": "stdout",
     "output_type": "stream",
     "text": [
      "[{'rouge-1': {'r': 0.998, 'p': 0.3022410660205936, 'f': 0.4639702428286845}, 'rouge-2': {'r': 0.9474689589302769, 'p': 0.18326251616478847, 'f': 0.3071207403179313}, 'rouge-l': {'r': 0.998, 'p': 0.3022410660205936, 'f': 0.4639702428286845}}]\n"
     ]
    }
   ],
   "source": [
    "from rouge import Rouge\n",
    "\n",
    "rouge = Rouge()\n",
    "scores = rouge.get_scores(combined_text, summary)\n",
    "print(scores)\n"
   ]
  },
  {
   "cell_type": "code",
   "execution_count": null,
   "metadata": {},
   "outputs": [],
   "source": []
  }
 ],
 "metadata": {
  "colab": {
   "provenance": []
  },
  "kernelspec": {
   "display_name": "Python 3 (ipykernel)",
   "language": "python",
   "name": "python3"
  },
  "language_info": {
   "codemirror_mode": {
    "name": "ipython",
    "version": 3
   },
   "file_extension": ".py",
   "mimetype": "text/x-python",
   "name": "python",
   "nbconvert_exporter": "python",
   "pygments_lexer": "ipython3",
   "version": "3.11.7"
  }
 },
 "nbformat": 4,
 "nbformat_minor": 4
}
